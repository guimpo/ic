{
 "cells": [
  {
   "cell_type": "code",
   "execution_count": 1,
   "metadata": {},
   "outputs": [],
   "source": [
    "import numpy as np\n",
    "import pandas as pd"
   ]
  },
  {
   "cell_type": "code",
   "execution_count": 2,
   "metadata": {},
   "outputs": [],
   "source": [
    "def funcao_sinal(u_potencial_de_ativacao):\n",
    "    if(u_potencial_de_ativacao >= 0):\n",
    "        return 1.\n",
    "    return -1."
   ]
  },
  {
   "cell_type": "code",
   "execution_count": 3,
   "metadata": {},
   "outputs": [
    {
     "name": "stdout",
     "output_type": "stream",
     "text": [
      "[[-1.     -0.6508  0.1097  4.0009]\n",
      " [-1.     -1.4492  0.8896  4.4005]\n",
      " [-1.      2.085   0.6876 12.071 ]\n",
      " [-1.      0.2626  1.1476  7.7985]\n",
      " [-1.      0.6418  1.0234  7.0427]\n",
      " [-1.      0.2569  0.673   8.3265]\n",
      " [-1.      1.1155  0.6043  7.4446]\n",
      " [-1.      0.0914  0.3399  7.0677]\n",
      " [-1.      0.0121  0.5256  4.6316]\n",
      " [-1.     -0.0429  0.466   5.4323]\n",
      " [-1.      0.434   0.687   8.2287]\n",
      " [-1.      0.2735  1.0287  7.1934]\n",
      " [-1.      0.4839  0.4851  7.485 ]\n",
      " [-1.      0.4089 -0.1267  5.5019]\n",
      " [-1.      1.4391  0.1614  8.5843]\n",
      " [-1.     -0.9115 -0.1973  2.1962]\n",
      " [-1.      0.3654  1.0475  7.4858]\n",
      " [-1.      0.2144  0.7515  7.1699]\n",
      " [-1.      0.2013  1.0014  6.5489]\n",
      " [-1.      0.6483  0.2183  5.8991]\n",
      " [-1.     -0.1147  0.2242  7.2435]\n",
      " [-1.     -0.797   0.8795  3.8762]\n",
      " [-1.     -1.0625  0.6366  2.4707]\n",
      " [-1.      0.5307  0.1285  5.6883]\n",
      " [-1.     -1.22    0.7777  1.7252]\n",
      " [-1.      0.3957  0.1076  5.6623]\n",
      " [-1.     -0.1013  0.5989  7.1812]\n",
      " [-1.      2.4482  0.9455 11.2095]\n",
      " [-1.      2.0149  0.6192 10.9263]]\n",
      "[-0.41066999  0.06117351 -0.61695843 -0.86419928]\n",
      "[[-1.]\n",
      " [-1.]\n",
      " [-1.]\n",
      " [ 1.]\n",
      " [ 1.]\n",
      " [-1.]\n",
      " [ 1.]\n",
      " [-1.]\n",
      " [ 1.]\n",
      " [ 1.]\n",
      " [-1.]\n",
      " [ 1.]\n",
      " [-1.]\n",
      " [-1.]\n",
      " [-1.]\n",
      " [-1.]\n",
      " [ 1.]\n",
      " [ 1.]\n",
      " [ 1.]\n",
      " [ 1.]\n",
      " [-1.]\n",
      " [ 1.]\n",
      " [ 1.]\n",
      " [ 1.]\n",
      " [ 1.]\n",
      " [-1.]\n",
      " [-1.]\n",
      " [ 1.]\n",
      " [-1.]]\n"
     ]
    }
   ],
   "source": [
    "np.random.seed(17)\n",
    "df = pd.read_csv('data/arquivo_tratado.csv', sep=';', header=None)\n",
    "amostras = df.iloc[0:29,[0,1,2]].values\n",
    "amostras = np.insert(amostras, 0, -1, axis=1)\n",
    "pesos = np.random.uniform(-1, 1, amostras.shape[1])\n",
    "rotulos = df.iloc[0:29,[-1]].values\n",
    "print(amostras)\n",
    "print(pesos)\n",
    "print(rotulos)"
   ]
  },
  {
   "cell_type": "code",
   "execution_count": 7,
   "metadata": {},
   "outputs": [
    {
     "name": "stdout",
     "output_type": "stream",
     "text": [
      "epocas 2999\n",
      "pesos iniciais [-0.37066999  0.18482551 -0.41835643 -0.14635928]\n",
      "pesos finais [-0.13066999  0.04652951 -0.05621043 -0.13862928]\n"
     ]
    }
   ],
   "source": [
    "TAXA_DE_APRENDIZAGEM = 0.01\n",
    "EPOCAS = 3000\n",
    "existe_erro = False\n",
    "pesos_iniciais = pesos\n",
    "\n",
    "for epoca in range(EPOCAS):\n",
    "    existe_erro = False\n",
    "    for entradas in amostras:\n",
    "        for d in rotulos:         \n",
    "            produto = np.multiply(entradas, pesos)\n",
    "            limiar = pesos[0]\n",
    "            #print('produto', produto)\n",
    "            #print('limiar', limiar)\n",
    "            somatorio = np.sum(produto)\n",
    "            #print('somatorio', somatorio)\n",
    "            somatorio = somatorio - limiar\n",
    "            #print('somatorio - limiar', somatorio)\n",
    "            y_saida = funcao_sinal(somatorio)\n",
    "            #print('y_saida',#y_saida)\n",
    "            #print(d)\n",
    "            if d != y_saida:\n",
    "                existe_erro = True\n",
    "                pesos = pesos + (TAXA_DE_APRENDIZAGEM * (d - y_saida) * entradas)\n",
    "    if not existe_erro:\n",
    "        break\n",
    "print('epocas', epoca)\n",
    "print(\"pesos iniciais\", pesos_iniciais)\n",
    "print(\"pesos finais\", pesos)"
   ]
  },
  {
   "cell_type": "code",
   "execution_count": null,
   "metadata": {},
   "outputs": [],
   "source": []
  }
 ],
 "metadata": {
  "kernelspec": {
   "display_name": "Python 3",
   "language": "python",
   "name": "python3"
  },
  "language_info": {
   "codemirror_mode": {
    "name": "ipython",
    "version": 3
   },
   "file_extension": ".py",
   "mimetype": "text/x-python",
   "name": "python",
   "nbconvert_exporter": "python",
   "pygments_lexer": "ipython3",
   "version": "3.7.7"
  }
 },
 "nbformat": 4,
 "nbformat_minor": 4
}
