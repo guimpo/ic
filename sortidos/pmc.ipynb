{
 "cells": [
  {
   "cell_type": "code",
   "execution_count": 1,
   "metadata": {},
   "outputs": [],
   "source": [
    "import math\n",
    "import pandas as pd\n",
    "import numpy as np\n",
    "import matplotlib.pyplot as plt"
   ]
  },
  {
   "cell_type": "code",
   "execution_count": 88,
   "metadata": {},
   "outputs": [
    {
     "data": {
      "text/plain": [
       "0.4668632862570983"
      ]
     },
     "execution_count": 88,
     "metadata": {},
     "output_type": "execute_result"
    }
   ],
   "source": [
    "X[0][1] * w1[0][1]"
   ]
  },
  {
   "cell_type": "code",
   "execution_count": 89,
   "metadata": {},
   "outputs": [
    {
     "data": {
      "text/plain": [
       "0.15317832540060639"
      ]
     },
     "execution_count": 89,
     "metadata": {},
     "output_type": "execute_result"
    }
   ],
   "source": [
    "X[0][2] * w1[0][2]"
   ]
  },
  {
   "cell_type": "code",
   "execution_count": 110,
   "metadata": {},
   "outputs": [
    {
     "data": {
      "text/plain": [
       "array([[-0.294665  ,  0.46686329,  0.15317833,  0.02697002],\n",
       "       [-0.78698546,  0.57750787,  0.50988921,  0.22862947],\n",
       "       [-0.03906292,  0.31484019,  0.75635741,  0.02384975]])"
      ]
     },
     "execution_count": 110,
     "metadata": {},
     "output_type": "execute_result"
    }
   ],
   "source": [
    "u_l1 = X * w1\n",
    "u_l1"
   ]
  },
  {
   "cell_type": "code",
   "execution_count": 123,
   "metadata": {},
   "outputs": [
    {
     "data": {
      "text/plain": [
       "array([[0.35234663, 0.52904109, 1.05598443]])"
      ]
     },
     "execution_count": 123,
     "metadata": {},
     "output_type": "execute_result"
    }
   ],
   "source": [
    "dot_X_w1 = np.dot(X, w1.T)\n",
    "dot_X_w1 # dot_X_w1 == sum(X * w1)"
   ]
  },
  {
   "cell_type": "code",
   "execution_count": 126,
   "metadata": {},
   "outputs": [
    {
     "data": {
      "text/plain": [
       "array([[0.58718651, 0.62925943, 0.74192242]])"
      ]
     },
     "execution_count": 126,
     "metadata": {},
     "output_type": "execute_result"
    }
   ],
   "source": [
    "sigmoid = lambda e: 1 / (1 + math.exp(-e))\n",
    "vfunc = np.vectorize(sigmoid)\n",
    "y_l1 = vfunc(dot_X_w1)\n",
    "y_l1"
   ]
  },
  {
   "cell_type": "code",
   "execution_count": 127,
   "metadata": {},
   "outputs": [
    {
     "data": {
      "text/plain": [
       "array([[1.05871254]])"
      ]
     },
     "execution_count": 127,
     "metadata": {},
     "output_type": "execute_result"
    }
   ],
   "source": [
    "np.dot(y_l1, w2.T)"
   ]
  },
  {
   "cell_type": "code",
   "execution_count": 120,
   "metadata": {},
   "outputs": [
    {
     "data": {
      "text/plain": [
       "0.35234664"
      ]
     },
     "execution_count": 120,
     "metadata": {},
     "output_type": "execute_result"
    }
   ],
   "source": [
    "sum(np.array([-0.294665  ,  0.46686329,  0.15317833,  0.02697002]))"
   ]
  },
  {
   "cell_type": "code",
   "execution_count": 121,
   "metadata": {},
   "outputs": [
    {
     "data": {
      "text/plain": [
       "0.52904109"
      ]
     },
     "execution_count": 121,
     "metadata": {},
     "output_type": "execute_result"
    }
   ],
   "source": [
    "sum(np.array([-0.78698546,  0.57750787,  0.50988921,  0.22862947]))"
   ]
  },
  {
   "cell_type": "code",
   "execution_count": 111,
   "metadata": {},
   "outputs": [],
   "source": []
  },
  {
   "cell_type": "code",
   "execution_count": 112,
   "metadata": {},
   "outputs": [
    {
     "data": {
      "text/plain": [
       "0.426862183349405"
      ]
     },
     "execution_count": 112,
     "metadata": {},
     "output_type": "execute_result"
    }
   ],
   "source": [
    "funcao_logistica(-0.294665)"
   ]
  },
  {
   "cell_type": "code",
   "execution_count": 113,
   "metadata": {},
   "outputs": [
    {
     "data": {
      "text/plain": [
       "0.614641071013597"
      ]
     },
     "execution_count": 113,
     "metadata": {},
     "output_type": "execute_result"
    }
   ],
   "source": [
    "funcao_logistica(0.46686329)"
   ]
  },
  {
   "cell_type": "code",
   "execution_count": 114,
   "metadata": {},
   "outputs": [
    {
     "data": {
      "text/plain": [
       "0.3128163158340391"
      ]
     },
     "execution_count": 114,
     "metadata": {},
     "output_type": "execute_result"
    }
   ],
   "source": [
    "funcao_logistica(-0.78698546)"
   ]
  },
  {
   "cell_type": "code",
   "execution_count": 115,
   "metadata": {},
   "outputs": [
    {
     "data": {
      "text/plain": [
       "0.49023551161402856"
      ]
     },
     "execution_count": 115,
     "metadata": {},
     "output_type": "execute_result"
    }
   ],
   "source": [
    "funcao_logistica(-0.03906292)"
   ]
  },
  {
   "cell_type": "code",
   "execution_count": 116,
   "metadata": {},
   "outputs": [
    {
     "data": {
      "text/plain": [
       "array([[0.42686218, 0.61464107, 0.53821988, 0.5067421 ],\n",
       "       [0.31281632, 0.64049376, 0.6247805 , 0.55690969],\n",
       "       [0.49023551, 0.57806625, 0.68056237, 0.50596215]])"
      ]
     },
     "execution_count": 116,
     "metadata": {},
     "output_type": "execute_result"
    }
   ],
   "source": []
  },
  {
   "cell_type": "code",
   "execution_count": 24,
   "metadata": {},
   "outputs": [
    {
     "data": {
      "text/plain": [
       "0.7302573938075442"
      ]
     },
     "execution_count": 24,
     "metadata": {},
     "output_type": "execute_result"
    }
   ],
   "source": [
    "y_l1 = funcao_logistica(u_l1)\n",
    "y_l1"
   ]
  },
  {
   "cell_type": "code",
   "execution_count": 28,
   "metadata": {},
   "outputs": [
    {
     "data": {
      "text/plain": [
       "0.8156133001004898"
      ]
     },
     "execution_count": 28,
     "metadata": {},
     "output_type": "execute_result"
    }
   ],
   "source": [
    "w2[0][0]"
   ]
  },
  {
   "cell_type": "code",
   "execution_count": 29,
   "metadata": {},
   "outputs": [
    {
     "data": {
      "text/plain": [
       "0.5956076428861541"
      ]
     },
     "execution_count": 29,
     "metadata": {},
     "output_type": "execute_result"
    }
   ],
   "source": [
    "y_l2 = y_l1 * w2[0][0]\n",
    "y_l2"
   ]
  },
  {
   "cell_type": "code",
   "execution_count": 31,
   "metadata": {},
   "outputs": [
    {
     "data": {
      "text/plain": [
       "array([[1, 2, 3, 4]])"
      ]
     },
     "execution_count": 31,
     "metadata": {},
     "output_type": "execute_result"
    }
   ],
   "source": [
    "x = np.arange(1, 5).reshape(1,4)\n",
    "x"
   ]
  },
  {
   "cell_type": "code",
   "execution_count": 32,
   "metadata": {},
   "outputs": [
    {
     "data": {
      "text/plain": [
       "array([[ 1,  2,  3,  4],\n",
       "       [ 5,  6,  7,  8],\n",
       "       [ 9, 10, 11, 12]])"
      ]
     },
     "execution_count": 32,
     "metadata": {},
     "output_type": "execute_result"
    }
   ],
   "source": [
    "w0_1 = np.arange(1, 13).reshape(3,4)\n",
    "w0_1"
   ]
  },
  {
   "cell_type": "code",
   "execution_count": 35,
   "metadata": {},
   "outputs": [
    {
     "data": {
      "text/plain": [
       "array([30])"
      ]
     },
     "execution_count": 35,
     "metadata": {},
     "output_type": "execute_result"
    }
   ],
   "source": [
    "np.dot(x, w0_1[0])"
   ]
  },
  {
   "cell_type": "code",
   "execution_count": 38,
   "metadata": {},
   "outputs": [
    {
     "data": {
      "text/plain": [
       "array([70])"
      ]
     },
     "execution_count": 38,
     "metadata": {},
     "output_type": "execute_result"
    }
   ],
   "source": [
    "np.dot(x, w0_1[1])"
   ]
  },
  {
   "cell_type": "code",
   "execution_count": 39,
   "metadata": {},
   "outputs": [
    {
     "data": {
      "text/plain": [
       "array([110])"
      ]
     },
     "execution_count": 39,
     "metadata": {},
     "output_type": "execute_result"
    }
   ],
   "source": [
    "np.dot(x, w0_1[2])"
   ]
  },
  {
   "cell_type": "code",
   "execution_count": 44,
   "metadata": {},
   "outputs": [
    {
     "data": {
      "text/plain": [
       "array([[ 1,  4,  9, 16],\n",
       "       [ 5, 12, 21, 32],\n",
       "       [ 9, 20, 33, 48]])"
      ]
     },
     "execution_count": 44,
     "metadata": {},
     "output_type": "execute_result"
    }
   ],
   "source": [
    "x * w0_1"
   ]
  },
  {
   "cell_type": "code",
   "execution_count": 53,
   "metadata": {},
   "outputs": [
    {
     "data": {
      "text/plain": [
       "array([ 30,  70, 110])"
      ]
     },
     "execution_count": 53,
     "metadata": {},
     "output_type": "execute_result"
    }
   ],
   "source": [
    "np.sum((x * w0_1), axis=1)"
   ]
  },
  {
   "cell_type": "code",
   "execution_count": 69,
   "metadata": {},
   "outputs": [
    {
     "data": {
      "text/plain": [
       "array([ 31,  71, 111])"
      ]
     },
     "execution_count": 69,
     "metadata": {},
     "output_type": "execute_result"
    }
   ],
   "source": [
    "func = lambda e: e + 1\n",
    "func_exe = np.vectorize(func)\n",
    "func_exe(np.sum((x * w0_1), axis=1))"
   ]
  },
  {
   "cell_type": "code",
   "execution_count": 71,
   "metadata": {},
   "outputs": [
    {
     "data": {
      "text/plain": [
       "array([ -1,  30,  70, 110])"
      ]
     },
     "execution_count": 71,
     "metadata": {},
     "output_type": "execute_result"
    }
   ],
   "source": [
    "l1 = np.arange(1, 4).reshape(1, 3)\n",
    "l1 = np.sum((x * w0_1), axis=1)\n",
    "l1 = np.insert(l1, 0, -1, axis=0)\n",
    "l1"
   ]
  },
  {
   "cell_type": "code",
   "execution_count": 65,
   "metadata": {},
   "outputs": [
    {
     "data": {
      "text/plain": [
       "array([[1, 2, 3, 4]])"
      ]
     },
     "execution_count": 65,
     "metadata": {},
     "output_type": "execute_result"
    }
   ],
   "source": [
    "w1_2 = np.arange(1, 5).reshape(1, 4)\n",
    "w1_2"
   ]
  },
  {
   "cell_type": "code",
   "execution_count": 66,
   "metadata": {},
   "outputs": [
    {
     "data": {
      "text/plain": [
       "array([709])"
      ]
     },
     "execution_count": 66,
     "metadata": {},
     "output_type": "execute_result"
    }
   ],
   "source": [
    "np.sum((l1 * w1_2), axis=1)"
   ]
  },
  {
   "cell_type": "code",
   "execution_count": 68,
   "metadata": {},
   "outputs": [
    {
     "data": {
      "text/plain": [
       "709"
      ]
     },
     "execution_count": 68,
     "metadata": {},
     "output_type": "execute_result"
    }
   ],
   "source": [
    " -1+  60+  210+ 440"
   ]
  },
  {
   "cell_type": "code",
   "execution_count": 73,
   "metadata": {},
   "outputs": [
    {
     "data": {
      "text/plain": [
       "1.1767137548026287"
      ]
     },
     "execution_count": 73,
     "metadata": {},
     "output_type": "execute_result"
    }
   ],
   "source": [
    "func = lambda e: 1 / 1 + (math.exp(-e))\n",
    "func(1.73322406)"
   ]
  },
  {
   "cell_type": "code",
   "execution_count": 74,
   "metadata": {},
   "outputs": [
    {
     "data": {
      "text/plain": [
       "-0.4033330359598078"
      ]
     },
     "execution_count": 74,
     "metadata": {},
     "output_type": "execute_result"
    }
   ],
   "source": [
    "deri_func = lambda e: (1 / 1 + (math.exp(-e))) * (1 - (1 / 1 + (math.exp(-e))))\n",
    "deri_func(1.1767137548026287)"
   ]
  },
  {
   "cell_type": "code",
   "execution_count": 62,
   "metadata": {},
   "outputs": [
    {
     "data": {
      "image/png": "[encoded data removed]",
      "text/plain": [
       "<Figure size 432x288 with 1 Axes>"
      ]
     },
     "metadata": {
      "needs_background": "light"
     },
     "output_type": "display_data"
    }
   ],
   "source": [
    "historico_eqm_1 = np.array([0.01389584, 0.01395954, 0.01394587, 0.01392466, 0.01389854, 0.0138709, 0.01384569, 0.01382672, 0.01381714, 0.01381912, 0.01383377, 0.01386129, 0.01390116, 0.01395241, 0.01401385, 0.01408421, 0.01416237, 0.01424732, 0.01433828, 0.01443471, 0.01453628, 0.01464289, 0.01475466, 0.01487191, 0.01499519, 0.0151252, 0.01526288, 0.01540932, 0.01556581, 0.01573376, 0.01591472, 0.01611029, 0.01632199, 0.0165512, 0.01679894, 0.01706571, 0.01735121, 0.01765416, 0.01797217, 0.01830165, 0.0186379, 0.0189754, 0.01930819, 0.01963037, 0.01993656, 0.02022234, 0.02048452, 0.02072119, 0.02093171, 0.02111648, 0.02127677, 0.02141439, 0.0215315, 0.0216304, 0.02171339, 0.02178266, 0.0218402, 0.02188783, 0.02192713, 0.02195946, 0.02198602, 0.02200779, 0.02202561, 0.02204018, 0.02205208, 0.02206179, 0.02206972, 0.02207617, 0.02208144, 0.02208572, 0.02208921, 0.02209205, 0.02209436, 0.02209625, 0.02209778, 0.02209902, 0.02210004, 0.02210086, 0.02210153, 0.02210208, 0.02210252, 0.02210288, 0.02210317, 0.0221034, 0.0221036, 0.02210375, 0.02210388, 0.02210398, 0.02210407, 0.02210413, 0.02210419, 0.02210423, 0.02210427, 0.02210429, 0.02210432, 0.02210434, 0.02210435, 0.02210436, 0.02210437, 0.02210438, 0.02210438, 0.02210439, 0.02210439, 0.02210439, 0.02210439, 0.02210439, 0.02210439, 0.02210439, 0.02210439, 0.02210439, 0.02210439, 0.02210438, 0.02210438, 0.02210438, 0.02210438, 0.02210438, 0.02210437, 0.02210437, 0.02210437, 0.02210437, 0.02210437, 0.02210436, 0.02210436, 0.02210436, 0.02210436, 0.02210435, 0.02210435, 0.02210435, 0.02210435, 0.02210434, 0.02210434, 0.02210434, 0.02210434, 0.02210433, 0.02210433, 0.02210433, 0.02210433, 0.02210433, 0.02210432, 0.02210432, 0.02210432, 0.02210431, 0.02210431, 0.02210431, 0.02210431, 0.02210431, 0.02210431, 0.0221043, 0.0221043, 0.0221043, 0.0221043, 0.02210429, 0.02210429, 0.02210429, 0.02210429, 0.02210429, 0.02210428, 0.02210428, 0.02210428, 0.02210427, 0.02210427, 0.02210427, 0.02210427, 0.02210426, 0.02210426, 0.02210426, 0.02210426, 0.02210425, 0.02210425, 0.02210425, 0.02210425, 0.02210425, 0.02210424, 0.02210424, 0.02210424, 0.02210424, 0.02210423, 0.02210423, 0.02210423, 0.02210423, 0.02210422, 0.02210422, 0.02210422, 0.02210421, 0.02210421, 0.02210421, 0.02210421, 0.02210421, 0.02210421, 0.0221042, 0.0221042, 0.0221042, 0.0221042, 0.02210419, 0.02210419, 0.02210419, 0.02210419, 0.02210418, 0.02210418, 0.02210418, 0.02210418, 0.02210417, 0.02210417, 0.02210417, 0.02210416, 0.02210416, 0.02210416, 0.02210416, 0.02210416, 0.02210415, 0.02210415, 0.02210415, 0.02210415, 0.02210415, 0.02210414, 0.02210414, 0.02210413, 0.02210413, 0.02210413, 0.02210413, 0.02210413, 0.02210412, 0.02210412, 0.02210412, 0.02210412, 0.02210411, 0.02210411, 0.0221041, 0.0221041, 0.0221041, 0.0221041, 0.0221041, 0.02210409, 0.02210409, 0.02210409, 0.02210409, 0.02210408, 0.02210408, 0.02210408, 0.02210408, 0.02210408, 0.02210407, 0.02210407, 0.02210407, 0.02210407, 0.02210406, 0.02210406, 0.02210406, 0.02210405, 0.02210405, 0.02210405, 0.02210404, 0.02210404, 0.02210404, 0.02210403, 0.02210403, 0.02210403, 0.02210403, 0.02210403, 0.02210402, 0.02210402, 0.02210402, 0.02210402, 0.02210402, 0.02210401, 0.02210401, 0.02210401, 0.022104, 0.022104, 0.022104, 0.02210399, 0.02210399, 0.02210399, 0.02210399, 0.02210398, 0.02210398, 0.02210398, 0.02210397, 0.02210397, 0.02210397, 0.02210397, 0.02210396, 0.02210396, 0.02210396, 0.02210396, 0.02210395, 0.02210395, 0.02210395, 0.02210395, 0.02210394, 0.02210394, 0.02210394, 0.02210394, 0.02210393, 0.02210393, 0.02210393, 0.02210392, 0.02210392, 0.02210392, 0.02210391, 0.02210391, 0.02210391, 0.02210391, 0.02210391, 0.02210391, 0.0221039, 0.0221039, 0.0221039, 0.02210389, 0.02210389, 0.02210389, 0.02210388, 0.02210388, 0.02210388, 0.02210387, 0.02210387, 0.02210387, 0.02210387, 0.02210386, 0.02210386, 0.02210385, 0.02210385, 0.02210385, 0.02210385, 0.02210384, 0.02210384, 0.02210384, 0.02210383, 0.02210383, 0.02210383, 0.02210383, 0.02210382, 0.02210382, 0.02210382, 0.02210381, 0.02210381, 0.02210381, 0.0221038, 0.0221038, 0.0221038, 0.0221038, 0.02210379, 0.02210379, 0.02210379, 0.02210379, 0.02210378, 0.02210378, 0.02210378, 0.02210377, 0.02210377, 0.02210377, 0.02210376, 0.02210376, 0.02210376, 0.02210376, 0.02210375, 0.02210375, 0.02210375, 0.02210375, 0.02210374, 0.02210374, 0.02210373, 0.02210373, 0.02210373, 0.02210373, 0.02210372, 0.02210372, 0.02210372, 0.02210372, 0.02210371, 0.02210371, 0.02210371, 0.0221037, 0.0221037, 0.02210369, 0.02210369, 0.02210369, 0.02210368, 0.02210368, 0.02210368, 0.02210368, 0.02210367, 0.02210367, 0.02210367, 0.02210367, 0.02210366, 0.02210366, 0.02210366, 0.02210365, 0.02210365, 0.02210365, 0.02210364, 0.02210364, 0.02210364, 0.02210363, 0.02210363, 0.02210363, 0.02210362, 0.02210362, 0.02210362, 0.02210362, 0.02210361, 0.02210361, 0.02210361, 0.0221036, 0.0221036, 0.02210359, 0.02210359, 0.02210359, 0.02210359, 0.02210358, 0.02210358, 0.02210358, 0.02210357, 0.02210357, 0.02210356, 0.02210356, 0.02210356, 0.02210356, 0.02210355, 0.02210355, 0.02210355, 0.02210354, 0.02210354, 0.02210354, 0.02210353, 0.02210353, 0.02210353, 0.02210352, 0.02210352, 0.02210352, 0.02210351, 0.02210351, 0.02210351, 0.02210351, 0.0221035, 0.0221035, 0.0221035, 0.02210349, 0.02210349, 0.02210349, 0.02210348, 0.02210348, 0.02210348, 0.02210347, 0.02210347, 0.02210347, 0.02210346, 0.02210346, 0.02210346, 0.02210345, 0.02210345, 0.02210345, 0.02210344, 0.02210344, 0.02210343, 0.02210343, 0.02210343, 0.02210342, 0.02210342, 0.02210342, 0.02210341, 0.02210341, 0.02210341, 0.02210341, 0.0221034, 0.0221034, 0.02210339, 0.02210339, 0.02210338, 0.02210338, 0.02210338, 0.02210337, 0.02210337, 0.02210337, 0.02210337, 0.02210336, 0.02210336, 0.02210336, 0.02210336, 0.02210335, 0.02210335, 0.02210334, 0.02210334, 0.02210334, 0.02210333, 0.02210333, 0.02210332, 0.02210332, 0.02210332, 0.02210332, 0.02210331, 0.02210331, 0.0221033, 0.0221033, 0.0221033, 0.02210329, 0.02210329, 0.02210329, 0.02210328, 0.02210328, 0.02210328, 0.02210328, 0.02210327, 0.02210327, 0.02210326, 0.02210326, 0.02210325, 0.02210325, 0.02210325, 0.02210324, 0.02210324, 0.02210323, 0.02210323, 0.02210323, 0.02210322, 0.02210322, 0.02210322, 0.02210321, 0.02210321, 0.02210321, 0.0221032, 0.0221032, 0.0221032, 0.02210319, 0.02210319, 0.02210318, 0.02210318, 0.02210318, 0.02210317, 0.02210317, 0.02210316, 0.02210316, 0.02210316, 0.02210315, 0.02210315, 0.02210315, 0.02210314, 0.02210314, 0.02210314, 0.02210313, 0.02210313, 0.02210313, 0.02210312, 0.02210312, 0.02210311, 0.02210311, 0.0221031, 0.0221031, 0.0221031, 0.02210309, 0.02210309, 0.02210309, 0.02210308, 0.02210308, 0.02210308, 0.02210307, 0.02210306, 0.02210306, 0.02210306, 0.02210306, 0.02210305, 0.02210305, 0.02210304, 0.02210304, 0.02210303, 0.02210303, 0.02210303, 0.02210302, 0.02210302, 0.02210302, 0.02210301, 0.02210301, 0.02210301, 0.022103, 0.022103, 0.02210299, 0.02210299, 0.02210298, 0.02210298, 0.02210298, 0.02210297, 0.02210297, 0.02210296, 0.02210296, 0.02210295, 0.02210295, 0.02210295, 0.02210294, 0.02210294, 0.02210294, 0.02210293, 0.02210292, 0.02210292, 0.02210292, 0.02210291, 0.02210291, 0.0221029, 0.0221029, 0.0221029, 0.0221029, 0.02210289, 0.02210289, 0.02210288, 0.02210288, 0.02210288, 0.02210287, 0.02210287, 0.02210286, 0.02210286, 0.02210286, 0.02210285, 0.02210285, 0.02210284, 0.02210284, 0.02210283, 0.02210283, 0.02210282, 0.02210282, 0.02210281, 0.02210281, 0.0221028, 0.0221028, 0.0221028, 0.02210279, 0.02210279, 0.02210278, 0.02210278, 0.02210278, 0.02210277, 0.02210277, 0.02210277, 0.02210276, 0.02210276, 0.02210275, 0.02210275, 0.02210275, 0.02210274, 0.02210274, 0.02210273, 0.02210273, 0.02210272, 0.02210272, 0.02210271, 0.02210271, 0.02210271, 0.0221027, 0.0221027, 0.02210269, 0.02210269, 0.02210269, 0.02210268, 0.02210267, 0.02210267, 0.02210267, 0.02210266, 0.02210266, 0.02210266, 0.02210265, 0.02210265, 0.02210264, 0.02210264, 0.02210263, 0.02210263, 0.02210262, 0.02210261, 0.02210261, 0.02210261, 0.0221026, 0.0221026, 0.0221026, 0.02210259, 0.02210259, 0.02210258, 0.02210258, 0.02210257, 0.02210257, 0.02210256, 0.02210256, 0.02210255, 0.02210255, 0.02210254, 0.02210254, 0.02210253, 0.02210253, 0.02210252, 0.02210252, 0.02210252, 0.02210251, 0.02210251, 0.0221025, 0.0221025, 0.02210249, 0.02210249, 0.02210248, 0.02210248, 0.02210247, 0.02210247, 0.02210246, 0.02210246, 0.02210246, 0.02210245, 0.02210245, 0.02210244, 0.02210244, 0.02210243, 0.02210243, 0.02210242, 0.02210242, 0.02210241, 0.02210241, 0.0221024, 0.02210239, 0.02210239, 0.02210239, 0.02210238, 0.02210238, 0.02210237, 0.02210237, 0.02210236, 0.02210236, 0.02210235, 0.02210235, 0.02210235, 0.02210234, 0.02210233, 0.02210233, 0.02210232, 0.02210232, 0.02210231, 0.02210231, 0.02210231, 0.0221023, 0.02210229, 0.02210229, 0.02210228, 0.02210228, 0.02210227, 0.02210227, 0.02210226, 0.02210226, 0.02210225, 0.02210225, 0.02210224, 0.02210224, 0.02210223, 0.02210223, 0.02210222, 0.02210222, 0.02210221, 0.02210221, 0.0221022, 0.0221022, 0.02210219, 0.02210219, 0.02210218, 0.02210218, 0.02210217, 0.02210217, 0.02210216, 0.02210216, 0.02210215, 0.02210214, 0.02210214, 0.02210213, 0.02210213, 0.02210213, 0.02210212, 0.02210211, 0.02210211, 0.0221021, 0.0221021, 0.0221021, 0.02210209, 0.02210209, 0.02210208, 0.02210208, 0.02210207, 0.02210207, 0.02210206, 0.02210205, 0.02210205, 0.02210204, 0.02210204, 0.02210203, 0.02210202, 0.02210202, 0.02210201, 0.02210201, 0.022102, 0.022102, 0.02210199, 0.02210199, 0.02210198, 0.02210197, 0.02210197, 0.02210197, 0.02210196, 0.02210196, 0.02210195])\n",
    "plt.autoscale(tight=True)\n",
    "plt.ticklabel_format(useOffset=False)\n",
    "plt.plot(historico_eqm_1)\n",
    "plt.ylabel('EQM')\n",
    "plt.xlabel('Épocas')\n",
    "plt.show()"
   ]
  },
  {
   "cell_type": "code",
   "execution_count": 63,
   "metadata": {},
   "outputs": [
    {
     "data": {
      "image/png": "[encoded data removed]",
      "text/plain": [
       "<Figure size 432x288 with 1 Axes>"
      ]
     },
     "metadata": {
      "needs_background": "light"
     },
     "output_type": "display_data"
    }
   ],
   "source": [
    "historico_eqm_2 = np.array([0.014458, 0.01459093, 0.01464678, 0.01469468, 0.01473439, 0.01476738, 0.01479681, 0.01482699, 0.01486261, 0.01490815, 0.01496739, 0.01504324, 0.01513767, 0.0152519, 0.01538654, 0.01554186, 0.01571789, 0.01591461, 0.01613188, 0.01636949, 0.01662706, 0.01690384, 0.01719859, 0.01750941, 0.01783356, 0.01816745, 0.0185067, 0.01884626, 0.01918077, 0.01950487, 0.01981368, 0.02010307, 0.02036995, 0.02061237, 0.02082949, 0.02102148, 0.02118932, 0.02133454, 0.02145911, 0.02156513, 0.02165478, 0.02173015, 0.02179324, 0.02184584, 0.02188953, 0.02192574, 0.02195567, 0.02198036, 0.02200071, 0.02201744, 0.0220312, 0.02204249, 0.02205175, 0.02205935, 0.02206557, 0.02207067, 0.02207484, 0.02207825, 0.02208104, 0.02208332, 0.02208519, 0.02208671, 0.02208795, 0.02208897, 0.02208979, 0.02209046, 0.02209101, 0.02209145, 0.02209181, 0.0220921, 0.02209233, 0.02209252, 0.02209267, 0.02209279, 0.02209288, 0.02209296, 0.02209301, 0.02209305, 0.02209308, 0.0220931, 0.02209312, 0.02209312, 0.02209312, 0.02209312, 0.02209311, 0.0220931, 0.0220931, 0.02209308, 0.02209307, 0.02209305, 0.02209303, 0.02209302, 0.02209299, 0.02209298, 0.02209296, 0.02209294, 0.02209291, 0.02209289, 0.02209287, 0.02209285, 0.02209283, 0.02209281, 0.02209279, 0.02209276, 0.02209274, 0.02209272, 0.02209269, 0.02209267, 0.02209265, 0.02209263, 0.0220926, 0.02209258, 0.02209256, 0.02209253, 0.02209251, 0.02209249, 0.02209247, 0.02209244, 0.02209241, 0.02209239, 0.02209237, 0.02209234, 0.02209232, 0.0220923, 0.02209227, 0.02209225, 0.02209222, 0.0220922, 0.02209217, 0.02209215, 0.02209212, 0.0220921, 0.02209207, 0.02209205, 0.02209202, 0.02209199, 0.02209197, 0.02209195, 0.02209192, 0.0220919, 0.02209187, 0.02209185, 0.02209182, 0.02209179, 0.02209177, 0.02209174, 0.02209171, 0.02209169, 0.02209166, 0.02209164, 0.02209161, 0.02209159, 0.02209156, 0.02209153, 0.02209151, 0.02209148, 0.02209145, 0.02209143, 0.0220914, 0.02209137, 0.02209134, 0.02209132, 0.02209129, 0.02209126, 0.02209123, 0.02209121, 0.02209118, 0.02209115, 0.02209112, 0.0220911, 0.02209107, 0.02209104, 0.02209101, 0.02209098, 0.02209095, 0.02209092, 0.0220909, 0.02209087, 0.02209084, 0.02209081, 0.02209078, 0.02209075, 0.02209072, 0.02209069, 0.02209066, 0.02209063, 0.0220906, 0.02209057, 0.02209054, 0.02209051, 0.02209048, 0.02209045, 0.02209042, 0.02209039, 0.02209035, 0.02209032, 0.02209029, 0.02209026, 0.02209023, 0.0220902, 0.02209017, 0.02209014, 0.0220901, 0.02209007, 0.02209004, 0.02209001, 0.02208998, 0.02208994, 0.02208991, 0.02208988, 0.02208985, 0.02208981, 0.02208978, 0.02208975, 0.02208971, 0.02208968, 0.02208965, 0.02208962, 0.02208958, 0.02208955, 0.02208952, 0.02208948, 0.02208945, 0.02208941, 0.02208938, 0.02208934, 0.02208931, 0.02208927, 0.02208924, 0.02208921, 0.02208917, 0.02208914, 0.0220891, 0.02208906, 0.02208903, 0.02208899, 0.02208896, 0.02208892, 0.02208888, 0.02208885, 0.02208881, 0.02208878, 0.02208874, 0.0220887, 0.02208866, 0.02208863, 0.02208859, 0.02208855, 0.02208851, 0.02208847, 0.02208843, 0.0220884, 0.02208836, 0.02208832, 0.02208828, 0.02208824, 0.0220882, 0.02208817, 0.02208813, 0.02208809, 0.02208804, 0.02208801, 0.02208797, 0.02208792, 0.02208788, 0.02208784, 0.0220878, 0.02208776, 0.02208772, 0.02208768, 0.02208764, 0.0220876, 0.02208756, 0.02208752, 0.02208748, 0.02208743, 0.02208739, 0.02208735, 0.0220873, 0.02208726, 0.02208722, 0.02208717, 0.02208713, 0.02208709, 0.02208704, 0.022087, 0.02208695, 0.02208691, 0.02208687, 0.02208682, 0.02208677, 0.02208673, 0.02208668, 0.02208664, 0.02208659, 0.02208655, 0.0220865, 0.02208645, 0.02208641, 0.02208636, 0.02208631, 0.02208627, 0.02208622, 0.02208617, 0.02208612, 0.02208608, 0.02208602, 0.02208597, 0.02208593, 0.02208588, 0.02208583, 0.02208578, 0.02208573, 0.02208568, 0.02208563, 0.02208558, 0.02208553, 0.02208548, 0.02208542, 0.02208538, 0.02208533, 0.02208527, 0.02208523, 0.02208517, 0.02208512, 0.02208507, 0.02208501, 0.02208496, 0.0220849, 0.02208485, 0.02208479, 0.02208474, 0.02208468, 0.02208463, 0.02208457, 0.02208452, 0.02208446, 0.02208441, 0.02208435, 0.02208429, 0.02208424, 0.02208418, 0.02208412, 0.02208406, 0.02208401, 0.02208395, 0.02208389, 0.02208383, 0.02208377, 0.02208371, 0.02208365, 0.02208359, 0.02208353, 0.02208347, 0.02208341, 0.02208334, 0.02208328, 0.02208322, 0.02208316, 0.0220831, 0.02208304, 0.02208298, 0.02208291, 0.02208285, 0.02208278, 0.02208272, 0.02208265, 0.02208258, 0.02208252, 0.02208246, 0.02208239, 0.02208232, 0.02208225, 0.02208218, 0.02208212, 0.02208205, 0.02208198, 0.02208191, 0.02208184, 0.02208177, 0.02208171, 0.02208163, 0.02208156, 0.02208149, 0.02208142, 0.02208134, 0.02208127, 0.0220812, 0.02208113, 0.02208105, 0.02208098, 0.0220809, 0.02208083, 0.02208075, 0.02208068, 0.0220806, 0.02208052, 0.02208045, 0.02208037, 0.02208029, 0.02208022, 0.02208014, 0.02208005, 0.02207997, 0.02207989, 0.02207982, 0.02207974, 0.02207965, 0.02207957, 0.02207949, 0.0220794, 0.02207932, 0.02207924, 0.02207915, 0.02207907, 0.02207898, 0.02207889, 0.02207881, 0.02207872, 0.02207863, 0.02207854, 0.02207845, 0.02207836, 0.02207827, 0.02207818, 0.02207809, 0.022078, 0.02207791, 0.02207781, 0.02207772, 0.02207762, 0.02207753, 0.02207744, 0.02207734, 0.02207724, 0.02207714, 0.02207705, 0.02207695, 0.02207685, 0.02207675, 0.02207665, 0.02207655, 0.02207645, 0.02207634, 0.02207624, 0.02207614, 0.02207603, 0.02207593, 0.02207582, 0.02207571, 0.02207561, 0.0220755, 0.02207539, 0.02207528, 0.02207517, 0.02207506, 0.02207495, 0.02207483, 0.02207472, 0.02207461, 0.02207449, 0.02207437, 0.02207426, 0.02207414, 0.02207402, 0.0220739, 0.02207378, 0.02207366, 0.02207354, 0.02207342, 0.02207329, 0.02207317, 0.02207304, 0.02207291, 0.02207279, 0.02207266, 0.02207253, 0.0220724, 0.02207227, 0.02207214, 0.022072, 0.02207187, 0.02207173, 0.02207159, 0.02207146, 0.02207132, 0.02207118, 0.02207104, 0.02207089, 0.02207075, 0.02207061, 0.02207046, 0.02207032, 0.02207017, 0.02207002, 0.02206987, 0.02206972, 0.02206957, 0.02206941, 0.02206926, 0.0220691, 0.02206895, 0.02206878, 0.02206862, 0.02206846, 0.0220683, 0.02206814, 0.02206797, 0.02206781, 0.02206764, 0.02206747, 0.02206729, 0.02206712, 0.02206695, 0.02206677, 0.0220666, 0.02206642, 0.02206624, 0.02206606, 0.02206587, 0.02206569, 0.0220655, 0.02206531, 0.02206512, 0.02206493, 0.02206473, 0.02206454, 0.02206434, 0.02206414, 0.02206394, 0.02206374, 0.02206353, 0.02206332, 0.02206312, 0.02206291, 0.0220627, 0.02206248, 0.02206226, 0.02206205, 0.02206182, 0.0220616, 0.02206137, 0.02206115, 0.02206092, 0.02206069, 0.02206045, 0.02206021, 0.02205997, 0.02205973, 0.02205949, 0.02205924, 0.02205899, 0.02205874, 0.02205849, 0.02205823, 0.02205797, 0.02205771, 0.02205745, 0.02205718, 0.02205691, 0.02205663, 0.02205636, 0.02205608, 0.0220558, 0.02205551, 0.02205522, 0.02205493, 0.02205463, 0.02205433, 0.02205403, 0.02205373, 0.02205342, 0.0220531, 0.02205279, 0.02205247, 0.02205214, 0.02205182, 0.02205149, 0.02205115, 0.02205082, 0.02205047, 0.02205013, 0.02204977, 0.02204942, 0.02204906, 0.02204869, 0.02204833, 0.02204795, 0.02204757, 0.0220472, 0.0220468, 0.02204641, 0.02204602, 0.02204562, 0.02204521, 0.0220448, 0.02204438, 0.02204396, 0.02204353, 0.0220431, 0.02204265, 0.02204221, 0.02204176, 0.0220413, 0.02204084, 0.02204037, 0.0220399, 0.02203941, 0.02203892, 0.02203843, 0.02203793, 0.02203742, 0.0220369, 0.02203638, 0.02203585, 0.02203531, 0.02203476, 0.02203421, 0.02203365, 0.02203308, 0.0220325, 0.02203192, 0.02203132, 0.02203072, 0.02203011, 0.02202949, 0.02202886, 0.02202822, 0.02202758, 0.02202692, 0.02202625, 0.02202558, 0.02202489, 0.0220242, 0.02202349, 0.02202278, 0.02202205, 0.02202132, 0.02202057, 0.02201981, 0.02201905, 0.02201827, 0.02201748, 0.02201668, 0.02201588, 0.02201506, 0.02201422, 0.02201338, 0.02201254, 0.02201168, 0.02201081, 0.02200993, 0.02200904, 0.02200815, 0.02200725, 0.02200634, 0.02200542, 0.0220045, 0.02200358, 0.02200266, 0.02200173, 0.0220008, 0.02199988, 0.02199897, 0.02199806, 0.02199717, 0.02199629, 0.02199544, 0.02199461, 0.02199382, 0.02199306, 0.02199235, 0.02199171, 0.02199113, 0.02199063, 0.02199024, 0.02198996, 0.02198983, 0.02198986, 0.0219901, 0.02199057, 0.02199132, 0.02199242, 0.02199392, 0.02199591, 0.02199849, 0.02200179, 0.02200597, 0.02201122, 0.0220178, 0.02202605, 0.02203637, 0.02204935, 0.02206574, 0.02208657, 0.02211331, 0.02214799, 0.02219364, 0.0222548, 0.02233859, 0.02245667, 0.02262916, 0.02289325, 0.02332366, 0.02408631, 0.02558331, 0.02857995, 0.03118022, 0.02830606, 0.0251029, 0.02350277, 0.02272984, 0.02233747, 0.02213075, 0.02201945, 0.02195881, 0.02192562, 0.02190744, 0.02189753, 0.02189219, 0.02188937, 0.02188796, 0.02188733, 0.02188713, 0.02188717, 0.02188734, 0.02188758, 0.02188786, 0.02188816, 0.02188848, 0.0218888, 0.02188913, 0.02188946, 0.02188979, 0.02189012, 0.02189045, 0.02189078, 0.02189111, 0.02189143, 0.02189176, 0.02189209, 0.02189242, 0.02189274, 0.02189307, 0.02189339, 0.02189372, 0.02189405, 0.02189437, 0.02189469, 0.02189502, 0.02189534, 0.02189566, 0.02189598, 0.0218963, 0.02189662, 0.02189694, 0.02189726, 0.02189758, 0.0218979, 0.02189822, 0.02189854, 0.02189885, 0.02189917, 0.02189949, 0.0218998, 0.02190012, 0.02190043, 0.02190075, 0.02190106, 0.02190138, 0.02190169, 0.021902, 0.02190231, 0.02190262, 0.02190293, 0.02190324, 0.02190355, 0.02190386, 0.02190417, 0.02190448, 0.02190479, 0.02190509, 0.0219054, 0.02190571, 0.02190601, 0.02190632, 0.02190662, 0.02190692, 0.02190723, 0.02190753, 0.02190784, 0.02190814, 0.02190844, 0.02190875, 0.02190905, 0.02190935, 0.02190965, 0.02190995, 0.02191025, 0.02191054])\n",
    "plt.autoscale(tight=True)\n",
    "plt.ticklabel_format(useOffset=False)\n",
    "plt.plot(historico_eqm_2)\n",
    "plt.ylabel('EQM')\n",
    "plt.xlabel('Épocas')\n",
    "plt.show()"
   ]
  },
  {
   "cell_type": "code",
   "execution_count": 59,
   "metadata": {},
   "outputs": [
    {
     "data": {
      "image/png": "[encoded data removed]",
      "text/plain": [
       "<Figure size 432x288 with 1 Axes>"
      ]
     },
     "metadata": {
      "needs_background": "light"
     },
     "output_type": "display_data"
    }
   ],
   "source": [
    "historico_eqm_3 = np.array([0.017451, 0.018323, 0.019245, 0.02024, 0.021209, 0.022057, 0.022723, 0.023203, 0.023524, 0.02373, 0.023857, 0.023934, 0.02398, 0.024007, 0.024023, 0.024032, 0.024038, 0.024041, 0.024043, 0.024044, 0.024045, 0.024045, 0.024046, 0.024046, 0.024046, 0.024046, 0.024046, 0.024047, 0.024047, 0.024047, 0.024047, 0.024047, 0.024047, 0.024048, 0.024048, 0.024048, 0.024048, 0.024048, 0.024048, 0.024048, 0.024048, 0.024048, 0.024048, 0.024048, 0.024048, 0.024048, 0.024048, 0.024048, 0.024049, 0.024049, 0.024049, 0.024049, 0.024049, 0.024049, 0.024049, 0.024049, 0.024049, 0.02405, 0.02405, 0.02405, 0.024051, 0.024051, 0.02405, 0.02405, 0.02405, 0.02405, 0.02405, 0.024051, 0.024051, 0.024051, 0.024051, 0.024051, 0.024051, 0.024052, 0.024052, 0.024052, 0.024052, 0.024052, 0.024052, 0.024052, 0.024053, 0.024053, 0.024053, 0.024053, 0.024053, 0.024053, 0.024054, 0.024054, 0.024054, 0.024054, 0.024054, 0.024054, 0.024054, 0.024054, 0.024054, 0.024054, 0.024055, 0.024055, 0.024055, 0.024055, 0.024055, 0.024055, 0.024055, 0.024056, 0.024056, 0.024056, 0.024056, 0.024057, 0.024057, 0.024057, 0.024057, 0.024057, 0.024057, 0.024057, 0.024057, 0.024057, 0.024058, 0.024058, 0.024058, 0.024058, 0.024058, 0.024059, 0.024059, 0.024059, 0.024059, 0.024059, 0.024059, 0.024059, 0.024059, 0.024059, 0.02406, 0.02406, 0.024061, 0.024061, 0.024061, 0.024061, 0.024061, 0.024061, 0.024061, 0.024062, 0.024062, 0.024062, 0.024062, 0.024062, 0.024062, 0.024063, 0.024063, 0.024063, 0.024063, 0.024063, 0.024063, 0.024064, 0.024064, 0.024064, 0.024064, 0.024064, 0.024064, 0.024065, 0.024065, 0.024065, 0.024065, 0.024065, 0.024066, 0.024066, 0.024066, 0.024066, 0.024066, 0.024067, 0.024067, 0.024067, 0.024067, 0.024067, 0.024068, 0.024068, 0.024068, 0.024068, 0.024068, 0.024069, 0.024069, 0.024069, 0.024069, 0.024069, 0.02407, 0.02407, 0.02407, 0.024071, 0.024071, 0.024071, 0.024071, 0.024071, 0.024071, 0.024071, 0.024071, 0.024071, 0.024072, 0.024072, 0.024072, 0.024072, 0.024073, 0.024073, 0.024073, 0.024074, 0.024074, 0.024074, 0.024074, 0.024074, 0.024075, 0.024075, 0.024075, 0.024075, 0.024075, 0.024075, 0.024076, 0.024076, 0.024076, 0.024076, 0.024077, 0.024077, 0.024077, 0.024077, 0.024078, 0.024078, 0.024078, 0.024078, 0.024078, 0.024078, 0.024079, 0.024079, 0.024079, 0.024079, 0.024079, 0.02408, 0.02408, 0.02408, 0.02408, 0.02408, 0.024081, 0.024081, 0.024081, 0.024082, 0.024082, 0.024082, 0.024082, 0.024082, 0.024083, 0.024083, 0.024083, 0.024084, 0.024084, 0.024084, 0.024084, 0.024084, 0.024085, 0.024085, 0.024085, 0.024085, 0.024085, 0.024085, 0.024086, 0.024086, 0.024086, 0.024086, 0.024087, 0.024087, 0.024087, 0.024087, 0.024088, 0.024088, 0.024088, 0.024088, 0.024088, 0.024089, 0.024089, 0.024089, 0.024089, 0.02409, 0.02409, 0.02409, 0.024091, 0.024091, 0.024091, 0.024091, 0.024091, 0.024091, 0.024092, 0.024092, 0.024092, 0.024092, 0.024092, 0.024093, 0.024093, 0.024093, 0.024094, 0.024094, 0.024094, 0.024095, 0.024095, 0.024095, 0.024095, 0.024095, 0.024095, 0.024095, 0.024096, 0.024096, 0.024097, 0.024097, 0.024097, 0.024098, 0.024098, 0.024098, 0.024098, 0.024098, 0.024098, 0.024099, 0.024099, 0.024099, 0.024099, 0.0241, 0.0241, 0.0241, 0.0241, 0.024101, 0.024101, 0.024101, 0.024101, 0.024102, 0.024102, 0.024102, 0.024102, 0.024102, 0.024103, 0.024103, 0.024103, 0.024103, 0.024103, 0.024104, 0.024104, 0.024104, 0.024104, 0.024104, 0.024105, 0.024105, 0.024105, 0.024105, 0.024106, 0.024106, 0.024106, 0.024106, 0.024106, 0.024107, 0.024107, 0.024107, 0.024108, 0.024108, 0.024108, 0.024108, 0.024108, 0.024108, 0.024109, 0.024109, 0.024109, 0.024109, 0.02411, 0.02411, 0.02411, 0.024111, 0.024111, 0.024111, 0.024111, 0.024111, 0.024112, 0.024112, 0.024112, 0.024112, 0.024113, 0.024113, 0.024113, 0.024113, 0.024113, 0.024113, 0.024114, 0.024114, 0.024114, 0.024114, 0.024115, 0.024115, 0.024115, 0.024115, 0.024116, 0.024116, 0.024116, 0.024116, 0.024116, 0.024117, 0.024117, 0.024117, 0.024117, 0.024117, 0.024118, 0.024118, 0.024118, 0.024118, 0.024118, 0.024119, 0.024119, 0.024119, 0.02412, 0.02412, 0.02412, 0.024121, 0.024121, 0.024121, 0.024121, 0.024122, 0.024122, 0.024122, 0.024122, 0.024122, 0.024122, 0.024122, 0.024122, 0.024123, 0.024123, 0.024123, 0.024124, 0.024124, 0.024124, 0.024124, 0.024125, 0.024125, 0.024125, 0.024125, 0.024125, 0.024125, 0.024126, 0.024126, 0.024126, 0.024126, 0.024127, 0.024127, 0.024127, 0.024127, 0.024127, 0.024127, 0.024128, 0.024128, 0.024128, 0.024128, 0.024128, 0.024129, 0.024129, 0.024129, 0.024129, 0.02413, 0.02413, 0.02413, 0.02413, 0.02413, 0.024131, 0.024131, 0.024131, 0.024132, 0.024132, 0.024132, 0.024132, 0.024132, 0.024132, 0.024132, 0.024132, 0.024133, 0.024133, 0.024133, 0.024133, 0.024133, 0.024134, 0.024134, 0.024134, 0.024135, 0.024135, 0.024135, 0.024135, 0.024136, 0.024136, 0.024136, 0.024136, 0.024136, 0.024137, 0.024137, 0.024137, 0.024137, 0.024137, 0.024137, 0.024137, 0.024138, 0.024138, 0.024138, 0.024138, 0.024138, 0.024138, 0.024139, 0.024139, 0.024139, 0.024139, 0.024139, 0.02414, 0.02414, 0.02414, 0.02414, 0.02414, 0.024141, 0.024141, 0.024141, 0.024141, 0.024142, 0.024142, 0.024142, 0.024142, 0.024142, 0.024143, 0.024143, 0.024143, 0.024143, 0.024143, 0.024143, 0.024143, 0.024144, 0.024144, 0.024144, 0.024144, 0.024144, 0.024144, 0.024145, 0.024145, 0.024145, 0.024145, 0.024145, 0.024145, 0.024145, 0.024146, 0.024146, 0.024146, 0.024146, 0.024146, 0.024147, 0.024147, 0.024147, 0.024147, 0.024147, 0.024148, 0.024148, 0.024148, 0.024148, 0.024148, 0.024148, 0.024149, 0.024149, 0.024149, 0.024149, 0.02415, 0.02415, 0.02415, 0.02415, 0.02415, 0.02415, 0.02415, 0.024151, 0.024151, 0.024151, 0.024151, 0.024151, 0.024151, 0.024151, 0.024151, 0.024152, 0.024151, 0.024152, 0.024152, 0.024152, 0.024152, 0.024152, 0.024153, 0.024153, 0.024153, 0.024153, 0.024153, 0.024153, 0.024154, 0.024154, 0.024154, 0.024155, 0.024155, 0.024155, 0.024155, 0.024155, 0.024155, 0.024155, 0.024155, 0.024156, 0.024156, 0.024156, 0.024156, 0.024157, 0.024157, 0.024157, 0.024157, 0.024157, 0.024157, 0.024157, 0.024157, 0.024158, 0.024158, 0.024158, 0.024158, 0.024158, 0.024158, 0.024158, 0.024158, 0.024158, 0.024159, 0.024159, 0.024159, 0.024159, 0.024159, 0.024159, 0.02416, 0.02416, 0.02416, 0.02416, 0.02416, 0.024161, 0.024161, 0.024161, 0.024161, 0.024161, 0.024162, 0.024162, 0.024161, 0.024161, 0.024161, 0.024162, 0.024162, 0.024162, 0.024162, 0.024162, 0.024162, 0.024163, 0.024163, 0.024163, 0.024163, 0.024163, 0.024163, 0.024164, 0.024164, 0.024164, 0.024164, 0.024164, 0.024164, 0.024164, 0.024165, 0.024165, 0.024165, 0.024165, 0.024165, 0.024165, 0.024165, 0.024166, 0.024166, 0.024166, 0.024166, 0.024166, 0.024166, 0.024166, 0.024166, 0.024166, 0.024167, 0.024167, 0.024167, 0.024167, 0.024168, 0.024168, 0.024168, 0.024168, 0.024168, 0.024168, 0.024168, 0.024169, 0.024169, 0.024169, 0.024169, 0.024169, 0.024169, 0.024169, 0.024169, 0.024169, 0.02417, 0.02417, 0.02417, 0.02417, 0.02417, 0.02417, 0.02417, 0.02417, 0.02417, 0.02417, 0.024171, 0.024171, 0.024171, 0.024171, 0.024171, 0.024171, 0.024172, 0.024172, 0.024172, 0.024172, 0.024172, 0.024172, 0.024172, 0.024172, 0.024172, 0.024173, 0.024172, 0.024173, 0.024173, 0.024173, 0.024173, 0.024173, 0.024174, 0.024174, 0.024174, 0.024174, 0.024174, 0.024174, 0.024174, 0.024174, 0.024174, 0.024174, 0.024174, 0.024175, 0.024175, 0.024175, 0.024175, 0.024175, 0.024175, 0.024175, 0.024175, 0.024176, 0.024176, 0.024176, 0.024176, 0.024176, 0.024176, 0.024176, 0.024176, 0.024176, 0.024177, 0.024177, 0.024177, 0.024177, 0.024177, 0.024177, 0.024177, 0.024177, 0.024177, 0.024177, 0.024177, 0.024177, 0.024178, 0.024178, 0.024178, 0.024178, 0.024178, 0.024179, 0.024179, 0.024179, 0.024179, 0.024179, 0.024179, 0.024179, 0.024179, 0.024179, 0.024179, 0.024179, 0.024179, 0.024179, 0.024179, 0.02418, 0.02418, 0.02418, 0.02418, 0.02418, 0.02418, 0.024181, 0.024181, 0.024181, 0.024181, 0.024181, 0.024181, 0.024181, 0.024181, 0.024181])\n",
    "plt.autoscale(tight=True)\n",
    "plt.ticklabel_format(useOffset=False)\n",
    "plt.plot(historico_eqm_3)\n",
    "plt.ylabel('EQM')\n",
    "plt.xlabel('Épocas')\n",
    "plt.show()"
   ]
  },
  {
   "cell_type": "code",
   "execution_count": 91,
   "metadata": {},
   "outputs": [
    {
     "data": {
      "image/png": "[encoded data removed]",
      "text/plain": [
       "<Figure size 432x288 with 1 Axes>"
      ]
     },
     "metadata": {
      "needs_background": "light"
     },
     "output_type": "display_data"
    }
   ],
   "source": [
    "historico_eqm_4 = np.array([0.13026045, 0.12600977, 0.12597682, 0.12597656])\n",
    "plt.autoscale(tight=True)\n",
    "plt.ticklabel_format(useOffset=False)\n",
    "plt.plot(historico_eqm_4)\n",
    "plt.ylabel('EQM')\n",
    "plt.xlabel('Épocas')\n",
    "plt.show()"
   ]
  },
  {
   "cell_type": "code",
   "execution_count": 90,
   "metadata": {},
   "outputs": [
    {
     "data": {
      "image/png": "[encoded data removed]",
      "text/plain": [
       "<Figure size 432x288 with 1 Axes>"
      ]
     },
     "metadata": {
      "needs_background": "light"
     },
     "output_type": "display_data"
    }
   ],
   "source": [
    "historico_eqm_5 = np.array([0.18307416, 0.17520314, 0.17447298, 0.1745249, 0.17473072, 0.174961, 0.17518479, 0.1753948, 0.17558969, 0.17576958, 0.17593513, 0.1760871, 0.17622632, 0.17635365, 0.17646988, 0.17657595, 0.17667257, 0.17676059, 0.17684072, 0.17691365, 0.17698001, 0.17704041, 0.17709541, 0.1771455, 0.17719114, 0.17723275, 0.17727074, 0.17730543, 0.17733713, 0.17736611, 0.17739268, 0.17741701, 0.17743933, 0.17745983, 0.17747867, 0.17749603, 0.17751201, 0.17752675, 0.17754034, 0.17755292, 0.17756457, 0.17757538, 0.17758539, 0.17759467, 0.17760331, 0.17761136, 0.17761884, 0.17762584, 0.17763238, 0.17763849, 0.1776442, 0.17764959, 0.1776546, 0.1776593, 0.17766375, 0.17766794, 0.17767188, 0.17767558, 0.17767908, 0.17768241, 0.17768552, 0.1776885, 0.17769131, 0.17769398, 0.1776965, 0.1776989, 0.17770116, 0.17770333, 0.1777054, 0.17770734, 0.17770922, 0.177711, 0.17771269, 0.17771429, 0.17771584, 0.17771729, 0.1777187, 0.17772003, 0.17772131, 0.17772251, 0.17772369, 0.17772478, 0.17772581, 0.17772684, 0.1777278])\n",
    "plt.autoscale(tight=True)\n",
    "plt.ticklabel_format(useOffset=False)\n",
    "plt.plot(historico_eqm_5)\n",
    "plt.ylabel('EQM')\n",
    "plt.xlabel('Épocas')\n",
    "plt.show()"
   ]
  },
  {
   "cell_type": "code",
   "execution_count": 66,
   "metadata": {},
   "outputs": [],
   "source": [
    "x = np.arange(1, 4).reshape(1, 3)\n",
    "y = np.arange(1, 10).reshape(3, 3)"
   ]
  },
  {
   "cell_type": "code",
   "execution_count": 67,
   "metadata": {},
   "outputs": [
    {
     "name": "stdout",
     "output_type": "stream",
     "text": [
      "[[1 2 3]]\n",
      "[[1 2 3]\n",
      " [4 5 6]\n",
      " [7 8 9]]\n"
     ]
    }
   ],
   "source": [
    "print(x)\n",
    "print(y)"
   ]
  },
  {
   "cell_type": "code",
   "execution_count": 69,
   "metadata": {},
   "outputs": [],
   "source": [
    "xy = np.multiply(x,y)"
   ]
  },
  {
   "cell_type": "code",
   "execution_count": 70,
   "metadata": {},
   "outputs": [
    {
     "data": {
      "text/plain": [
       "array([[ 1,  4,  9],\n",
       "       [ 4, 10, 18],\n",
       "       [ 7, 16, 27]])"
      ]
     },
     "execution_count": 70,
     "metadata": {},
     "output_type": "execute_result"
    }
   ],
   "source": [
    "xy"
   ]
  },
  {
   "cell_type": "code",
   "execution_count": 72,
   "metadata": {},
   "outputs": [
    {
     "data": {
      "text/plain": [
       "array([14, 32, 50])"
      ]
     },
     "execution_count": 72,
     "metadata": {},
     "output_type": "execute_result"
    }
   ],
   "source": [
    "np.sum(xy, axis=1)"
   ]
  },
  {
   "cell_type": "code",
   "execution_count": 73,
   "metadata": {},
   "outputs": [],
   "source": [
    "def pos_proc(e): return 1 if e >= 0.5 else 0"
   ]
  },
  {
   "cell_type": "code",
   "execution_count": 74,
   "metadata": {},
   "outputs": [
    {
     "data": {
      "text/plain": [
       "1"
      ]
     },
     "execution_count": 74,
     "metadata": {},
     "output_type": "execute_result"
    }
   ],
   "source": [
    "pos_proc(1)"
   ]
  },
  {
   "cell_type": "code",
   "execution_count": 75,
   "metadata": {},
   "outputs": [
    {
     "data": {
      "text/plain": [
       "1"
      ]
     },
     "execution_count": 75,
     "metadata": {},
     "output_type": "execute_result"
    }
   ],
   "source": [
    "pos_proc(0.5)"
   ]
  },
  {
   "cell_type": "code",
   "execution_count": 76,
   "metadata": {},
   "outputs": [
    {
     "data": {
      "text/plain": [
       "0"
      ]
     },
     "execution_count": 76,
     "metadata": {},
     "output_type": "execute_result"
    }
   ],
   "source": [
    "pos_proc(0.4)"
   ]
  },
  {
   "cell_type": "code",
   "execution_count": 77,
   "metadata": {},
   "outputs": [],
   "source": [
    "def CrossEntropy(yHat, y):\n",
    "    if y == 1:\n",
    "        return -math.log(yHat)\n",
    "    else:\n",
    "        return -math.log(1 - yHat)"
   ]
  },
  {
   "cell_type": "code",
   "execution_count": 79,
   "metadata": {},
   "outputs": [
    {
     "data": {
      "text/plain": [
       "0.4462871026284195"
      ]
     },
     "execution_count": 79,
     "metadata": {},
     "output_type": "execute_result"
    }
   ],
   "source": [
    "-math.log(0.64)"
   ]
  },
  {
   "cell_type": "code",
   "execution_count": 92,
   "metadata": {},
   "outputs": [
    {
     "data": {
      "text/plain": [
       "0.0051315599999999795"
      ]
     },
     "execution_count": 92,
     "metadata": {},
     "output_type": "execute_result"
    }
   ],
   "source": [
    "0.13114821 - 0.12601665"
   ]
  },
  {
   "cell_type": "code",
   "execution_count": 94,
   "metadata": {},
   "outputs": [],
   "source": [
    "a = np.array([0.12597687])\n",
    "b = np.array([0.12597656])"
   ]
  },
  {
   "cell_type": "code",
   "execution_count": 99,
   "metadata": {},
   "outputs": [
    {
     "data": {
      "text/plain": [
       "3.1000000000336314e-07"
      ]
     },
     "execution_count": 99,
     "metadata": {},
     "output_type": "execute_result"
    }
   ],
   "source": []
  },
  {
   "cell_type": "code",
   "execution_count": 100,
   "metadata": {},
   "outputs": [],
   "source": [
    "pd.set_option('display.float_format', lambda x: '%.6f' % x)"
   ]
  }
 ],
 "metadata": {
  "kernelspec": {
   "display_name": "Python 3",
   "language": "python",
   "name": "python3"
  },
  "language_info": {
   "codemirror_mode": {
    "name": "ipython",
    "version": 3
   },
   "file_extension": ".py",
   "mimetype": "text/x-python",
   "name": "python",
   "nbconvert_exporter": "python",
   "pygments_lexer": "ipython3",
   "version": "3.7.7"
  }
 },
 "nbformat": 4,
 "nbformat_minor": 4
}
